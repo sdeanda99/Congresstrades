{
 "cells": [
  {
   "cell_type": "code",
   "execution_count": null,
   "id": "initial_id",
   "metadata": {
    "collapsed": true
   },
   "outputs": [],
   "source": [
    "#Further Data collection to get all purchased stock prices using yfinance\n",
    "unique_assets= purchases_2023['TickerType'].unique()\n",
    "\n",
    "print(unique_assets)"
   ]
  },
  {
   "metadata": {},
   "cell_type": "code",
   "outputs": [],
   "execution_count": null,
   "source": [
    "Only_stock_purchases_2023 = purchases_2023[(['TickerType'] == 'Stock') | (purchases_2023['TickerType'] == 'ST')] \n",
    "\n",
    "assets_check = Only_stock_purchases_2023['TickerType'].unique()\n",
    "\n",
    "print(assets_check)\n",
    "\n"
   ],
   "id": "3dbb56ebd8fa1b16"
  },
  {
   "metadata": {},
   "cell_type": "code",
   "outputs": [],
   "execution_count": null,
   "source": [
    "import pandas as pd\n",
    "from datetime import datetime\n",
    "\n",
    "# Assuming your original dataframe is named 'Only_stock_purchases_2023'\n",
    "# and your function is already defined as get_stock_close_price(ticker, date)\n",
    "\n",
    "# Create a new list to store the results\n",
    "results = []\n",
    "\n",
    "yo = 0\n",
    "# Loop through the dataframe\n",
    "for index, row in Only_stock_purchases_2023.iterrows():\n",
    "#for index, row in Only_stock_purchases_2023.head(50).iterrows():\n",
    "\n",
    "    ticker = row['Ticker']\n",
    "    date = row['Traded']\n",
    "    yo = yo + 1\n",
    "    print(\"New number: \", yo)\n",
    "    # Convert Timestamp to string in 'YYYY-MM-DD' format\n",
    "    date_str = date.strftime('%Y-%m-%d')\n",
    "\n",
    "    # Get the close price using your function\n",
    "    close_price = get_stock_close_price(ticker, date_str)\n",
    "\n",
    "    # Append the result to the list\n",
    "    results.append({\n",
    "        'Ticker': ticker,\n",
    "        'Traded': date,\n",
    "        'Close_Price': close_price\n",
    "    })\n",
    "\n",
    "# Create a new dataframe from the results\n",
    "OSP2023_1 = pd.DataFrame(results)\n",
    "\n",
    "# Display the first few rows of the new dataframe\n",
    "print(OSP2023_1.head(1500))"
   ],
   "id": "57f1a04bdc56a3f9"
  },
  {
   "metadata": {},
   "cell_type": "code",
   "outputs": [],
   "execution_count": null,
   "source": [
    "Unique_Tickers = OSP2023_1['Ticker'].unique().tolist()\n",
    "print(unique_tickers)"
   ],
   "id": "b198451d58268f56"
  },
  {
   "metadata": {},
   "cell_type": "code",
   "outputs": [],
   "execution_count": null,
   "source": [
    "import yfinance as yf\n",
    "import pandas as pd\n",
    "from datetime import datetime, timedelta\n",
    "\n",
    "# Assuming Unique_Tickers is already defined\n",
    "# Unique_Tickers = OSP2023_1['Ticker'].unique().tolist()\n",
    "\n",
    "# Set the date range\n",
    "start_date = \"2023-01-01\"\n",
    "end_date = datetime.now().strftime('%Y-%m-%d')\n",
    "\n",
    "# Create an empty dataframe to store all the data\n",
    "all_data = pd.DataFrame()\n",
    "yo = 0\n",
    "# Loop through each ticker\n",
    "for ticker in Unique_Tickers:\n",
    "    try:\n",
    "        # Fetch data for the ticker\n",
    "        stock_data = yf.download(ticker, start=start_date, end=end_date)\n",
    "        yo = yo + 1\n",
    "        print(\"New number: \", yo)\n",
    "        # If data is empty, skip to the next ticker\n",
    "        if stock_data.empty:\n",
    "            print(f\"No data available for {ticker}\")\n",
    "            continue\n",
    "        \n",
    "        # Reset the index to turn the Date into a column\n",
    "        stock_data.reset_index(inplace=True)\n",
    "        \n",
    "        # Add a column for the ticker\n",
    "        stock_data['Ticker'] = ticker\n",
    "        \n",
    "        # Select only the 'Date', 'Close', and 'Ticker' columns\n",
    "        stock_data = stock_data[['Date', 'Ticker', 'Close']]\n",
    "        \n",
    "        # Append to the main dataframe\n",
    "        all_data = pd.concat([all_data, stock_data], ignore_index=True)\n",
    "        \n",
    "        print(f\"Data fetched for {ticker}\")\n",
    "    \n",
    "    except Exception as e:\n",
    "        print(f\"Error fetching data for {ticker}: {str(e)}\")\n",
    "\n",
    "# Sort the dataframe by Date and Ticker\n",
    "all_data = all_data.sort_values(['Date', 'Ticker'])\n",
    "\n",
    "# Save the data to a CSV file\n",
    "all_data.to_csv('stock_prices_2023_to_now.csv', index=False)\n",
    "\n",
    "print(\"Data fetching complete. Results saved to 'stock_prices_2023_to_now.csv'\")"
   ],
   "id": "8355d7e93958ed29"
  }
 ],
 "metadata": {
  "kernelspec": {
   "display_name": "Python 3",
   "language": "python",
   "name": "python3"
  },
  "language_info": {
   "codemirror_mode": {
    "name": "ipython",
    "version": 2
   },
   "file_extension": ".py",
   "mimetype": "text/x-python",
   "name": "python",
   "nbconvert_exporter": "python",
   "pygments_lexer": "ipython2",
   "version": "2.7.6"
  }
 },
 "nbformat": 4,
 "nbformat_minor": 5
}
